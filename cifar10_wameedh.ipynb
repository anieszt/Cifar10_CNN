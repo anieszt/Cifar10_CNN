{
  "cells": [
    {
      "cell_type": "markdown",
      "metadata": {
        "id": "view-in-github",
        "colab_type": "text"
      },
      "source": [
        "<a href=\"https://colab.research.google.com/github/anieszt/Cifar10_CNN/blob/main/cifar10_wameedh.ipynb\" target=\"_parent\"><img src=\"https://colab.research.google.com/assets/colab-badge.svg\" alt=\"Open In Colab\"/></a>"
      ]
    },
    {
      "cell_type": "code",
      "execution_count": 1,
      "metadata": {
        "id": "itKJqIHlnUTt"
      },
      "outputs": [],
      "source": [
        "import numpy as np\n",
        "import tensorflow as tf\n",
        "import matplotlib.pyplot as plt\n",
        "from keras import regularizers"
      ]
    },
    {
      "cell_type": "code",
      "execution_count": 2,
      "metadata": {
        "id": "w5lcaUDCxV9p",
        "colab": {
          "base_uri": "https://localhost:8080/"
        },
        "outputId": "2ad9cc3a-616d-4c78-a7fe-4f54481e7e6b"
      },
      "outputs": [
        {
          "output_type": "stream",
          "name": "stdout",
          "text": [
            "Downloading data from https://www.cs.toronto.edu/~kriz/cifar-10-python.tar.gz\n",
            "170498071/170498071 [==============================] - 14s 0us/step\n",
            "Model: \"sequential\"\n",
            "_________________________________________________________________\n",
            " Layer (type)                Output Shape              Param #   \n",
            "=================================================================\n",
            " batch_normalization (BatchN  (None, 32, 32, 3)        12        \n",
            " ormalization)                                                   \n",
            "                                                                 \n",
            " conv2d (Conv2D)             (None, 32, 32, 64)        4864      \n",
            "                                                                 \n",
            " batch_normalization_1 (Batc  (None, 32, 32, 64)       256       \n",
            " hNormalization)                                                 \n",
            "                                                                 \n",
            " max_pooling2d (MaxPooling2D  (None, 16, 16, 64)       0         \n",
            " )                                                               \n",
            "                                                                 \n",
            " dropout (Dropout)           (None, 16, 16, 64)        0         \n",
            "                                                                 \n",
            " batch_normalization_2 (Batc  (None, 16, 16, 64)       256       \n",
            " hNormalization)                                                 \n",
            "                                                                 \n",
            " conv2d_1 (Conv2D)           (None, 16, 16, 128)       204928    \n",
            "                                                                 \n",
            " batch_normalization_3 (Batc  (None, 16, 16, 128)      512       \n",
            " hNormalization)                                                 \n",
            "                                                                 \n",
            " max_pooling2d_1 (MaxPooling  (None, 16, 16, 128)      0         \n",
            " 2D)                                                             \n",
            "                                                                 \n",
            " dropout_1 (Dropout)         (None, 16, 16, 128)       0         \n",
            "                                                                 \n",
            " batch_normalization_4 (Batc  (None, 16, 16, 128)      512       \n",
            " hNormalization)                                                 \n",
            "                                                                 \n",
            " conv2d_2 (Conv2D)           (None, 16, 16, 256)       819456    \n",
            "                                                                 \n",
            " max_pooling2d_2 (MaxPooling  (None, 16, 16, 256)      0         \n",
            " 2D)                                                             \n",
            "                                                                 \n",
            " dropout_2 (Dropout)         (None, 16, 16, 256)       0         \n",
            "                                                                 \n",
            " flatten (Flatten)           (None, 65536)             0         \n",
            "                                                                 \n",
            " batch_normalization_5 (Batc  (None, 65536)            262144    \n",
            " hNormalization)                                                 \n",
            "                                                                 \n",
            " dense (Dense)               (None, 500)               32768500  \n",
            "                                                                 \n",
            " dropout_3 (Dropout)         (None, 500)               0         \n",
            "                                                                 \n",
            " dense_1 (Dense)             (None, 256)               128256    \n",
            "                                                                 \n",
            " dense_2 (Dense)             (None, 10)                2570      \n",
            "                                                                 \n",
            "=================================================================\n",
            "Total params: 34,192,266\n",
            "Trainable params: 34,060,420\n",
            "Non-trainable params: 131,846\n",
            "_________________________________________________________________\n"
          ]
        }
      ],
      "source": [
        "(train_img, train_labels), (test_img, test_labels) = tf.keras.datasets.cifar10.load_data()\n",
        "\n",
        "model = tf.keras.models.Sequential() \n",
        "\n",
        "model.add(tf.keras.layers.BatchNormalization(input_shape=train_img.shape[1:]))\n",
        "model.add(tf.keras.layers.Conv2D(64, (5, 5), padding='same', activation='elu'))\n",
        "model.add(tf.keras.layers.BatchNormalization(input_shape=train_img.shape[1:]))       \n",
        "model.add(tf.keras.layers.MaxPooling2D(pool_size=(2,2), strides = (2,2)))\n",
        "model.add(tf.keras.layers.Dropout(0.25))\n",
        "\n",
        "model.add(tf.keras.layers.BatchNormalization(input_shape=train_img.shape[1:]))\n",
        "model.add(tf.keras.layers.Conv2D(128, (5, 5), padding='same', activation='elu'))\n",
        "model.add(tf.keras.layers.BatchNormalization(input_shape=train_img.shape[1:])) \n",
        "model.add(tf.keras.layers.MaxPooling2D(pool_size=(1,1), strides = (1,1)))\n",
        "model.add(tf.keras.layers.Dropout(0.25))\n",
        "\n",
        "model.add(tf.keras.layers.BatchNormalization(input_shape=train_img.shape[1:]))\n",
        "model.add(tf.keras.layers.Conv2D(256, (5, 5), padding='same', activation='elu')) \n",
        "model.add(tf.keras.layers.MaxPooling2D(pool_size=(1,1), strides = (1,1)))\n",
        "model.add(tf.keras.layers.Dropout(0.25))\n",
        "\n",
        "model.add(tf.keras.layers.Flatten(input_shape=(32, 32, 3)))\n",
        "model.add(tf.keras.layers.BatchNormalization(input_shape=train_img.shape[1:]))\n",
        "model.add(tf.keras.layers.Dense(500,kernel_regularizer=regularizers.l2(0.01),activation=\"elu\"))\n",
        "model.add(tf.keras.layers.Dropout(0.4))\n",
        "model.add(tf.keras.layers.Dense(256,activation = 'elu',kernel_regularizer=regularizers.l2(0.01), input_shape=(32,32)))  #\n",
        "model.add(tf.keras.layers.Dense(10, activation = 'softmax'))\n",
        "\n",
        "model.summary()\n"
      ]
    },
    {
      "cell_type": "code",
      "execution_count": null,
      "metadata": {
        "id": "1BBOMq5U0gbO"
      },
      "outputs": [],
      "source": [
        "tf.keras.backend.clear_session()\n",
        "\n",
        "def scheduler(epoch, lr):\n",
        "   if epoch < 10:\n",
        "     return lr\n",
        "   elif epoch > 10 and epoch < 19:\n",
        "     return lr * tf.math.exp(-0.1)\n",
        "   else:\n",
        "     return lr * tf.math.exp(-0.14)\n",
        "\n",
        "model.compile(\n",
        "    optimizer=tf.keras.optimizers.Adam(learning_rate=0.0007), #0.0007\n",
        "    loss = 'categorical_crossentropy',\n",
        "    metrics = ['accuracy']\n",
        ")\n",
        "\n",
        "#report = [tf.keras.callbacks.ModelCheckpoint(filepath='model.h5', verbose = 1)]\n",
        "report = [tf.keras.callbacks.LearningRateScheduler(scheduler)]\n",
        "\n",
        "train_labels = tf.keras.utils.to_categorical(train_labels)\n",
        "test_labels = tf.keras.utils.to_categorical(test_labels)"
      ]
    },
    {
      "cell_type": "code",
      "execution_count": null,
      "metadata": {
        "colab": {
          "base_uri": "https://localhost:8080/"
        },
        "id": "2DUh2lx23WtD",
        "outputId": "01dcbdbb-60df-4478-865e-70025f915dc3"
      },
      "outputs": [
        {
          "output_type": "stream",
          "name": "stdout",
          "text": [
            "Epoch 1/30\n",
            "782/782 [==============================] - 32s 37ms/step - loss: 11.0007 - accuracy: 0.3752 - val_loss: 4.1384 - val_accuracy: 0.5292 - lr: 7.0000e-04\n",
            "Epoch 2/30\n",
            "782/782 [==============================] - 28s 36ms/step - loss: 3.4141 - accuracy: 0.5315 - val_loss: 2.7851 - val_accuracy: 0.5547 - lr: 7.0000e-04\n",
            "Epoch 3/30\n",
            "782/782 [==============================] - 28s 36ms/step - loss: 2.3790 - accuracy: 0.5824 - val_loss: 2.1628 - val_accuracy: 0.5971 - lr: 7.0000e-04\n",
            "Epoch 4/30\n",
            "782/782 [==============================] - 28s 36ms/step - loss: 2.2345 - accuracy: 0.6150 - val_loss: 2.3458 - val_accuracy: 0.6285 - lr: 7.0000e-04\n",
            "Epoch 5/30\n",
            "782/782 [==============================] - 28s 36ms/step - loss: 2.6656 - accuracy: 0.6438 - val_loss: 2.9373 - val_accuracy: 0.6605 - lr: 7.0000e-04\n",
            "Epoch 6/30\n",
            "782/782 [==============================] - 28s 36ms/step - loss: 3.1548 - accuracy: 0.6634 - val_loss: 3.2904 - val_accuracy: 0.6895 - lr: 7.0000e-04\n",
            "Epoch 7/30\n",
            "782/782 [==============================] - 28s 36ms/step - loss: 3.5435 - accuracy: 0.6890 - val_loss: 3.5287 - val_accuracy: 0.7101 - lr: 7.0000e-04\n",
            "Epoch 8/30\n",
            "782/782 [==============================] - 28s 36ms/step - loss: 3.7262 - accuracy: 0.7070 - val_loss: 3.7245 - val_accuracy: 0.7033 - lr: 7.0000e-04\n",
            "Epoch 9/30\n",
            "782/782 [==============================] - 28s 36ms/step - loss: 3.7751 - accuracy: 0.7229 - val_loss: 3.8254 - val_accuracy: 0.7421 - lr: 7.0000e-04\n",
            "Epoch 10/30\n",
            "782/782 [==============================] - 28s 36ms/step - loss: 3.6654 - accuracy: 0.7412 - val_loss: 3.6110 - val_accuracy: 0.7604 - lr: 7.0000e-04\n",
            "Epoch 11/30\n",
            "782/782 [==============================] - 28s 36ms/step - loss: 3.3366 - accuracy: 0.7632 - val_loss: 3.1807 - val_accuracy: 0.7806 - lr: 6.0855e-04\n",
            "Epoch 12/30\n",
            "782/782 [==============================] - 28s 36ms/step - loss: 3.0545 - accuracy: 0.7782 - val_loss: 3.1471 - val_accuracy: 0.7546 - lr: 5.5064e-04\n",
            "Epoch 13/30\n",
            "782/782 [==============================] - 28s 36ms/step - loss: 2.8054 - accuracy: 0.7923 - val_loss: 2.8769 - val_accuracy: 0.7763 - lr: 4.9824e-04\n",
            "Epoch 14/30\n",
            "782/782 [==============================] - 28s 36ms/step - loss: 2.5518 - accuracy: 0.8044 - val_loss: 2.6045 - val_accuracy: 0.8082 - lr: 4.5083e-04\n",
            "Epoch 15/30\n",
            "782/782 [==============================] - 28s 36ms/step - loss: 2.3888 - accuracy: 0.8134 - val_loss: 2.4427 - val_accuracy: 0.8140 - lr: 4.0792e-04\n",
            "Epoch 16/30\n",
            "782/782 [==============================] - 28s 36ms/step - loss: 2.2285 - accuracy: 0.8279 - val_loss: 2.2445 - val_accuracy: 0.8105 - lr: 3.6910e-04\n",
            "Epoch 17/30\n",
            "782/782 [==============================] - 28s 36ms/step - loss: 2.0353 - accuracy: 0.8372 - val_loss: 2.0954 - val_accuracy: 0.8212 - lr: 3.3398e-04\n",
            "Epoch 18/30\n",
            "782/782 [==============================] - 28s 36ms/step - loss: 1.8804 - accuracy: 0.8460 - val_loss: 2.0216 - val_accuracy: 0.8225 - lr: 3.0220e-04\n",
            "Epoch 19/30\n",
            "782/782 [==============================] - 28s 36ms/step - loss: 1.7242 - accuracy: 0.8561 - val_loss: 1.8911 - val_accuracy: 0.8219 - lr: 2.7344e-04\n",
            "Epoch 20/30\n",
            "782/782 [==============================] - 28s 36ms/step - loss: 1.5474 - accuracy: 0.8657 - val_loss: 1.7321 - val_accuracy: 0.8363 - lr: 2.3772e-04\n",
            "Epoch 21/30\n",
            "782/782 [==============================] - 28s 36ms/step - loss: 1.4213 - accuracy: 0.8731 - val_loss: 1.5284 - val_accuracy: 0.8401 - lr: 2.0666e-04\n",
            "Epoch 22/30\n",
            "782/782 [==============================] - 28s 36ms/step - loss: 1.2344 - accuracy: 0.8849 - val_loss: 1.4435 - val_accuracy: 0.8386 - lr: 1.7966e-04\n",
            "Epoch 23/30\n",
            "782/782 [==============================] - 28s 36ms/step - loss: 1.1330 - accuracy: 0.8918 - val_loss: 1.3222 - val_accuracy: 0.8404 - lr: 1.5619e-04\n",
            "Epoch 24/30\n",
            "782/782 [==============================] - 28s 36ms/step - loss: 1.0102 - accuracy: 0.8978 - val_loss: 1.2197 - val_accuracy: 0.8457 - lr: 1.3579e-04\n",
            "Epoch 25/30\n",
            "782/782 [==============================] - 28s 36ms/step - loss: 0.9294 - accuracy: 0.9073 - val_loss: 1.1304 - val_accuracy: 0.8517 - lr: 1.1805e-04\n",
            "Epoch 26/30\n",
            "782/782 [==============================] - 28s 36ms/step - loss: 0.8349 - accuracy: 0.9138 - val_loss: 1.0650 - val_accuracy: 0.8491 - lr: 1.0262e-04\n",
            "Epoch 27/30\n",
            "782/782 [==============================] - 28s 36ms/step - loss: 0.7549 - accuracy: 0.9200 - val_loss: 0.9856 - val_accuracy: 0.8505 - lr: 8.9218e-05\n",
            "Epoch 28/30\n",
            "782/782 [==============================] - 28s 36ms/step - loss: 0.6838 - accuracy: 0.9262 - val_loss: 0.9386 - val_accuracy: 0.8482 - lr: 7.7562e-05\n",
            "Epoch 29/30\n",
            "782/782 [==============================] - 28s 36ms/step - loss: 0.6196 - accuracy: 0.9343 - val_loss: 0.8853 - val_accuracy: 0.8528 - lr: 6.7429e-05\n",
            "Epoch 30/30\n",
            "782/782 [==============================] - 28s 36ms/step - loss: 0.5721 - accuracy: 0.9384 - val_loss: 0.8432 - val_accuracy: 0.8527 - lr: 5.8620e-05\n"
          ]
        }
      ],
      "source": [
        "history = model.fit(train_img, train_labels, callbacks = report, epochs = 30, batch_size=64, validation_data=(test_img, test_labels)) "
      ]
    },
    {
      "cell_type": "code",
      "source": [
        "test_loss, test_acc = model.evaluate(test_img, test_labels)"
      ],
      "metadata": {
        "colab": {
          "base_uri": "https://localhost:8080/"
        },
        "id": "X6-qEYA8lyQf",
        "outputId": "68df76c7-c4d4-4325-a9a4-151e9462460b"
      },
      "execution_count": null,
      "outputs": [
        {
          "output_type": "stream",
          "name": "stdout",
          "text": [
            "313/313 [==============================] - 3s 8ms/step - loss: 0.8432 - accuracy: 0.8527\n"
          ]
        }
      ]
    },
    {
      "cell_type": "code",
      "execution_count": null,
      "metadata": {
        "colab": {
          "base_uri": "https://localhost:8080/",
          "height": 295
        },
        "id": "o09RvUtuj8vU",
        "outputId": "5bb3f1c4-0451-4c36-9160-0731531b1380"
      },
      "outputs": [
        {
          "output_type": "display_data",
          "data": {
            "text/plain": [
              "<Figure size 432x288 with 1 Axes>"
            ],
            "image/png": "[encoded data removed]"
          },
          "metadata": {
            "needs_background": "light"
          }
        }
      ],
      "source": [
        "plt.plot(history.history['accuracy'])\n",
        "plt.plot(history.history['val_accuracy'])\n",
        "#plt.plot(history.history['loss'])\n",
        "plt.title('model accuracy')\n",
        "plt.ylabel('accuracy')\n",
        "plt.xlabel('epoch')\n",
        "plt.legend(['train', 'test','loss'], loc='upper left')\n",
        "plt.show()"
      ]
    },
    {
      "cell_type": "code",
      "execution_count": null,
      "metadata": {
        "colab": {
          "base_uri": "https://localhost:8080/",
          "height": 302
        },
        "id": "-qzipVpnkghi",
        "outputId": "1ebd2c26-b776-4f2c-ccb9-cec9748791d1"
      },
      "outputs": [
        {
          "output_type": "stream",
          "name": "stdout",
          "text": [
            "1/1 [==============================] - 0s 266ms/step\n",
            "prediction: dog\n"
          ]
        },
        {
          "output_type": "display_data",
          "data": {
            "text/plain": [
              "<Figure size 432x288 with 1 Axes>"
            ],
            "image/png": "[encoded data removed]"
          },
          "metadata": {
            "needs_background": "light"
          }
        }
      ],
      "source": [
        "import random\n",
        "\n",
        "n=random.randint(1, 10000)\n",
        "\n",
        "labels = ['airplane','automobile','bird','cat','deer','dog','frog','horse','ship','truck']\n",
        "model.save(\"model.h5\")\n",
        "model = tf.keras.models.load_model(filepath=\"model.h5\")\n",
        "output=model.predict(test_img[n].reshape(1,32,32,3))\n",
        "\n",
        "plt.imshow(test_img[n], cmap= 'binary')\n",
        "print(\"prediction: \" +labels[np.argmax(output)])"
      ]
    }
  ],
  "metadata": {
    "accelerator": "GPU",
    "colab": {
      "provenance": [],
      "include_colab_link": true
    },
    "gpuClass": "standard",
    "kernelspec": {
      "display_name": "Python 3",
      "name": "python3"
    },
    "language_info": {
      "name": "python"
    }
  },
  "nbformat": 4,
  "nbformat_minor": 0
}